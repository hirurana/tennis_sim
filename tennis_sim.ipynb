{
  "nbformat": 4,
  "nbformat_minor": 0,
  "metadata": {
    "colab": {
      "name": "tennis_sim.ipynb",
      "provenance": [],
      "authorship_tag": "ABX9TyPUKyUzYtQfpY3XCi1+vss0",
      "include_colab_link": true
    },
    "kernelspec": {
      "name": "python3",
      "display_name": "Python 3"
    }
  },
  "cells": [
    {
      "cell_type": "markdown",
      "metadata": {
        "id": "view-in-github",
        "colab_type": "text"
      },
      "source": [
        "<a href=\"https://colab.research.google.com/github/hirurana/tennis_sim/blob/main/tennis_sim.ipynb\" target=\"_parent\"><img src=\"https://colab.research.google.com/assets/colab-badge.svg\" alt=\"Open In Colab\"/></a>"
      ]
    },
    {
      "cell_type": "markdown",
      "metadata": {
        "id": "9ZbHMNDn8Wpk"
      },
      "source": [
        "# 1 - Tennis Match Simulator"
      ]
    },
    {
      "cell_type": "code",
      "metadata": {
        "id": "ZQRRt_ps8R0Z"
      },
      "source": [
        "#game state updater\n",
        "def update_game_state(winner, g_st):\n",
        "    # init vars\n",
        "    loser = abs(winner-1)\n",
        "    ad_out = False\n",
        "        \n",
        "    # is deuce?\n",
        "    if (g_st[winner] == g_st[loser] and g_st[winner] == 3) or (max(g_st) == 4 and min(g_st) == 3):\n",
        "        # if other side is winning sub their score and do not increment\n",
        "        if g_st[winner] < g_st[loser]:\n",
        "            ad_out = True\n",
        "    \n",
        "    # increment point\n",
        "    if not ad_out:\n",
        "        g_st[winner] += 1 \n",
        "    else:\n",
        "        g_st[loser] -= 1 #leader loses advantage\n",
        "    return g_st"
      ],
      "execution_count": 1,
      "outputs": []
    },
    {
      "cell_type": "code",
      "metadata": {
        "id": "V0uiSvRM8fax"
      },
      "source": [
        "# set state updater\n",
        "def update_set_state(winner, s_st): \n",
        "    #use each point to update the current game state\n",
        "    current_game_num = list(s_st.keys())[-1]\n",
        "    g_st = s_st[current_game_num]\n",
        "\n",
        "    # simulate the point won in current game\n",
        "    g_st = update_game_state(winner, g_st)\n",
        "\n",
        "    #if game has been won start new game\n",
        "    loser = abs(winner-1)\n",
        "    if (g_st[winner] >= 4 and g_st[loser] < 3) or g_st[winner] == 5:        \n",
        "        #start new game\n",
        "        new_game_num = 'game'+str(len(s_st)+1)\n",
        "        s_st[new_game_num] = [0,0]\n",
        "        g_st = s_st[new_game_num]\n",
        "    return s_st, g_st"
      ],
      "execution_count": 2,
      "outputs": []
    },
    {
      "cell_type": "code",
      "metadata": {
        "id": "DpjZq2jn8pxm"
      },
      "source": [
        "# match state updater\n",
        "def update_match_state(winner, m_st, config):\n",
        "    '''\n",
        "        TODO:\n",
        "        #deal with tie-breaks and advantage sets in final set\n",
        "        #determine if match has been won\n",
        "        #allow configuration to other formats\n",
        "    '''\n",
        "    \n",
        "    # get first set\n",
        "    current_set_num = list(m_st.keys())[-1]\n",
        "    s_st = m_st[current_set_num]\n",
        "    \n",
        "    loser = abs(winner-1)\n",
        "    \n",
        "    #simulate a single point in a game in a set\n",
        "    s_st, cg_score = update_set_state(winner, s_st)\n",
        "    \n",
        "    #calculate set score\n",
        "    game_scores = [g.index(max(g)) for g in list(s_st.values()) if max(g) >= 4] #only check compeleted matches\n",
        "    w_wins = game_scores.count(winner)\n",
        "    l_wins = game_scores.count(loser)\n",
        "\n",
        "    set_scores = [0,0]\n",
        "    set_scores[winner] = w_wins\n",
        "    set_scores[loser] = l_wins\n",
        "\n",
        "    #determine if the set has been won and start new set\n",
        "    if len(s_st) > 6:\n",
        "        if (w_wins-l_wins) >=2:\n",
        "            #TODO: fix the appearing game\n",
        "            del s_st[list(s_st.keys())[-1]]\n",
        "            #start new set\n",
        "            new_set_num = 'set'+str(len(m_st)+1)\n",
        "            m_st[new_set_num] = {'game1': [0,0]}\n",
        "            s_st = m_st[new_set_num]\n",
        "    return m_st, set_scores, cg_score"
      ],
      "execution_count": 3,
      "outputs": []
    },
    {
      "cell_type": "markdown",
      "metadata": {
        "id": "fCRQ-x2N8sVX"
      },
      "source": [
        "Check if the current leader is about to play for a critical point"
      ]
    },
    {
      "cell_type": "code",
      "metadata": {
        "id": "ti-NF9738qve"
      },
      "source": [
        "#Critical Point checker\n",
        "def critical_point_check(current_scores, p0_prob, nf):\n",
        "    '''\n",
        "        Reduces probability of player winning if is a critical point\n",
        "    '''\n",
        "    #parse current_states\n",
        "    cg_score, cs_scores, m_score = current_scores\n",
        "    nerv_prob = p0_prob\n",
        "    \n",
        "    #check if game point\n",
        "    game_points = [set([0,3]),set([1,3]),set([2,3]), set([5,3])]\n",
        "    \n",
        "    #TODO: if player is serving for game reduce p\n",
        "    \n",
        "    \n",
        "    #  if critical point reduce prob of winning\n",
        "    if set(cg_score) in game_points:\n",
        "        # reduce p\n",
        "        nerv_prob*=(1-nf)\n",
        "        #check if set point\n",
        "        if min(cs_scores) >= 4 and max(cs_scores)-min(cs_scores) == 1:\n",
        "            #reduce p again\n",
        "            nerv_prob*=(1-nf)\n",
        "            #check if match point\n",
        "            if max(m_score)-min(m_score) == 1:\n",
        "                # reduce p again\n",
        "                nerv_prob*=(1-nf)\n",
        "\n",
        "    return None if p0_prob == nerv_prob else [nerv_prob,1-nerv_prob]"
      ],
      "execution_count": 4,
      "outputs": []
    },
    {
      "cell_type": "markdown",
      "metadata": {
        "id": "EpqiKcS583PA"
      },
      "source": [
        "Function to play a single match"
      ]
    },
    {
      "cell_type": "code",
      "metadata": {
        "id": "NVaMvSYN82DP"
      },
      "source": [
        "import numpy as np\n",
        "# Simulate match from list of inputs\n",
        "def play_match(p0_prob, nf):\n",
        "    '''\n",
        "        TODO: \n",
        "        Allow configurability of how match can be won\n",
        "    '''\n",
        "    # init vars and state\n",
        "    p1_prob = 1-p0_prob\n",
        "    winner = -1\n",
        "    match_st = {'set1': {'game1': [0, 0]}}\n",
        "    cg_score = cs_scores = m_score = [0,0]\n",
        "    nerve_factor = nf\n",
        "#     serving = np.random.randint(0,1) #sim coin toss at start of match\n",
        "    \n",
        "    # run until match won\n",
        "    while True:\n",
        "        #critical pointer checker\n",
        "        critical_probs = critical_point_check([cg_score, cs_scores, m_score], p0_prob, nerve_factor)\n",
        "        point_probs = [p0_prob,p1_prob] if not critical_probs else critical_probs\n",
        "        \n",
        "        # generate stream of inputs\n",
        "        point = np.random.choice([0,1], p=point_probs)\n",
        "        # update match state, returns current match, set and game state\n",
        "        match_st, cs_scores, cg_score = update_match_state(point, match_st, None)\n",
        "        \n",
        "        # check if game won\n",
        "        if len(match_st) > 2:\n",
        "            # calc set scores\n",
        "            game_scores = [[g.index(max(g)) for g in list(s.values())] for s in list(match_st.values())[:-1]]\n",
        "            set_scores = [1 if s.count(1) > s.count(0) else 0 for s in game_scores]\n",
        "            w_wins = set_scores.count(point)\n",
        "            l_wins = set_scores.count(abs(point-1))\n",
        "            \n",
        "            m_score[point] = w_wins\n",
        "            m_score[abs(point-1)] = l_wins\n",
        "            \n",
        "            # check if match won, break loop (best of three)\n",
        "            if (w_wins-l_wins) >=2 or len(match_st) == 3:\n",
        "                #remove new extra set\n",
        "                del match_st[list(match_st.keys())[-1]]\n",
        "                winner = point\n",
        "                break\n",
        "            # players have tied, play one more set\n",
        "    \n",
        "    return match_st, winner"
      ],
      "execution_count": 5,
      "outputs": []
    },
    {
      "cell_type": "markdown",
      "metadata": {
        "id": "k9LIOUqR8_ht"
      },
      "source": [
        "Simulate a number of matches"
      ]
    },
    {
      "cell_type": "code",
      "metadata": {
        "id": "tPxYQ00c89rd"
      },
      "source": [
        "def simulate_matches(p0_prob, nf, num_matches):\n",
        "    #init vars for hists\n",
        "    results = num_sets_played = num_games_played = all_game_outcomes = np.array([])\n",
        "\n",
        "    for i in range(0,num_matches):\n",
        "        #get the result of playing a single match\n",
        "        match_result, winner = play_match(p0_prob, nf)\n",
        "        results = np.append(results,winner)\n",
        "\n",
        "        #get all game outcomes from the match\n",
        "        game_outcomes = np.array([[g.index(max(g)) for g in list(s.values())] for s in list(match_result.values())[:-1]]).flatten()\n",
        "        all_game_outcomes = np.concatenate((all_game_outcomes, game_outcomes), axis=None)\n",
        "        \n",
        "        #get number of sets played in the match\n",
        "        num_sets_played = np.append(num_sets_played,len(match_result))\n",
        "        \n",
        "        #get number of games played in the match\n",
        "        num_games_played = np.concatenate((num_games_played,[len(s) for s in list(match_result.values())]), axis=None)\n",
        "    \n",
        "    return results, num_sets_played, num_games_played, all_game_outcomes"
      ],
      "execution_count": 6,
      "outputs": []
    },
    {
      "cell_type": "markdown",
      "metadata": {
        "id": "gNfxhbS29Fh4"
      },
      "source": [
        "# 2 - Histograms"
      ]
    },
    {
      "cell_type": "code",
      "metadata": {
        "id": "JPbjIAQV9Db5"
      },
      "source": [
        "#run simulation\n",
        "results, num_sets_played, num_games_played, all_game_outcomes = simulate_matches(0.5, 0.5, 1000)"
      ],
      "execution_count": 7,
      "outputs": []
    },
    {
      "cell_type": "code",
      "metadata": {
        "colab": {
          "base_uri": "https://localhost:8080/",
          "height": 301
        },
        "id": "HQ_lzMsV9M8V",
        "outputId": "a8cdcf32-1537-47de-9980-d317138bb542"
      },
      "source": [
        "#Game Outcomes\n",
        "import matplotlib.pyplot as plt\n",
        "\n",
        "_, game_counts = np.unique(all_game_outcomes, return_counts=True)\n",
        "plt.bar(['Player 0', 'Player 1'], game_counts)\n",
        "plt.show()\n",
        "print(f\"Player 0 won {game_counts[0]}/{len(all_game_outcomes)} games ({game_counts[0]/len(all_game_outcomes)*100}%)\\nPlayer 1 won {game_counts[1]}/{len(all_game_outcomes)} games ({game_counts[1]/len(all_game_outcomes)*100}%)\")"
      ],
      "execution_count": 8,
      "outputs": [
        {
          "output_type": "display_data",
          "data": {
            "image/png": "[encoded data removed]",
            "text/plain": [
              "<Figure size 432x288 with 1 Axes>"
            ]
          },
          "metadata": {
            "tags": [],
            "needs_background": "light"
          }
        },
        {
          "output_type": "stream",
          "text": [
            "Player 0 won 2526/6737 games (37.49443372420959%)\n",
            "Player 1 won 4211/6737 games (62.505566275790414%)\n"
          ],
          "name": "stdout"
        }
      ]
    },
    {
      "cell_type": "code",
      "metadata": {
        "colab": {
          "base_uri": "https://localhost:8080/",
          "height": 302
        },
        "id": "9sJ6NBrL9OjP",
        "outputId": "ce44823e-7789-4ad4-e193-76be9fdfcd8d"
      },
      "source": [
        "#Match Outcomes\n",
        "import matplotlib.pyplot as plt\n",
        "\n",
        "_, match_counts = np.unique(results, return_counts=True)\n",
        "plt.bar(['Player 0', 'Player 1'], match_counts)\n",
        "plt.show()\n",
        "print(f\"Player 0 won {match_counts[0]}/{len(results)} matches ({match_counts[0]/len(results)*100}%)\\nPlayer 1 won {match_counts[1]}/{len(results)} matches ({match_counts[1]/len(results)*100}%)\")"
      ],
      "execution_count": 9,
      "outputs": [
        {
          "output_type": "display_data",
          "data": {
            "image/png": "[encoded data removed]",
            "text/plain": [
              "<Figure size 432x288 with 1 Axes>"
            ]
          },
          "metadata": {
            "tags": [],
            "needs_background": "light"
          }
        },
        {
          "output_type": "stream",
          "text": [
            "Player 0 won 225/1000 matches (22.5%)\n",
            "Player 1 won 775/1000 matches (77.5%)\n"
          ],
          "name": "stdout"
        }
      ]
    },
    {
      "cell_type": "code",
      "metadata": {
        "colab": {
          "base_uri": "https://localhost:8080/",
          "height": 265
        },
        "id": "OHp0YUJa9RWE",
        "outputId": "1e6a7fe9-450d-4ecd-8383-594247df5341"
      },
      "source": [
        "#histogram of number of sets played\n",
        "plt.hist(num_sets_played)\n",
        "plt.show()"
      ],
      "execution_count": 10,
      "outputs": [
        {
          "output_type": "display_data",
          "data": {
            "image/png": "[encoded data removed]",
            "text/plain": [
              "<Figure size 432x288 with 1 Axes>"
            ]
          },
          "metadata": {
            "tags": [],
            "needs_background": "light"
          }
        }
      ]
    },
    {
      "cell_type": "code",
      "metadata": {
        "colab": {
          "base_uri": "https://localhost:8080/",
          "height": 265
        },
        "id": "3qCTqVqK9bX0",
        "outputId": "481314b3-221c-4279-c9f9-635745136be5"
      },
      "source": [
        "#histogram of number of games played per set\n",
        "plt.hist(num_games_played)\n",
        "plt.show()"
      ],
      "execution_count": 11,
      "outputs": [
        {
          "output_type": "display_data",
          "data": {
            "image/png": "[encoded data removed]",
            "text/plain": [
              "<Figure size 432x288 with 1 Axes>"
            ]
          },
          "metadata": {
            "tags": [],
            "needs_background": "light"
          }
        }
      ]
    },
    {
      "cell_type": "markdown",
      "metadata": {
        "id": "5SpTXxFs9d1T"
      },
      "source": [
        "# 3 - Varying Probability of Player 0"
      ]
    },
    {
      "cell_type": "code",
      "metadata": {
        "colab": {
          "base_uri": "https://localhost:8080/",
          "height": 809
        },
        "id": "aol9yoAC9c1z",
        "outputId": "2712747a-9347-4cd8-c5bc-eb1e7d47818d"
      },
      "source": [
        "import random\n",
        "\n",
        "for i in range(0,3):\n",
        "    p = random.uniform(0.3,0.7)\n",
        "    results, num_sets_played, num_games_played, all_game_outcomes = simulate_matches(p, 0.2, 500)\n",
        "    plt.figure()\n",
        "    plt.title('Probability '+str(p))\n",
        "    _, match_counts = np.unique(results, return_counts=True)\n",
        "    plt.bar(['Player 0', 'Player 1'], match_counts)\n",
        "plt.show()"
      ],
      "execution_count": 13,
      "outputs": [
        {
          "output_type": "display_data",
          "data": {
            "image/png": "[encoded data removed]",
            "text/plain": [
              "<Figure size 432x288 with 1 Axes>"
            ]
          },
          "metadata": {
            "tags": [],
            "needs_background": "light"
          }
        },
        {
          "output_type": "display_data",
          "data": {
            "image/png": "[encoded data removed]",
            "text/plain": [
              "<Figure size 432x288 with 1 Axes>"
            ]
          },
          "metadata": {
            "tags": [],
            "needs_background": "light"
          }
        },
        {
          "output_type": "display_data",
          "data": {
            "image/png": "[encoded data removed]",
            "text/plain": [
              "<Figure size 432x288 with 1 Axes>"
            ]
          },
          "metadata": {
            "tags": [],
            "needs_background": "light"
          }
        }
      ]
    },
    {
      "cell_type": "code",
      "metadata": {
        "id": "CgU4lPYY9kfL"
      },
      "source": [
        ""
      ],
      "execution_count": null,
      "outputs": []
    }
  ]
}