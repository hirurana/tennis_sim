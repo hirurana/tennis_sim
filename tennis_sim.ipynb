{
  "nbformat": 4,
  "nbformat_minor": 0,
  "metadata": {
    "colab": {
      "name": "tennis_sim.ipynb",
      "provenance": [],
      "authorship_tag": "ABX9TyMapzs5EwkTEf7yt5cGHdjT",
      "include_colab_link": true
    },
    "kernelspec": {
      "name": "python3",
      "display_name": "Python 3"
    }
  },
  "cells": [
    {
      "cell_type": "markdown",
      "metadata": {
        "id": "view-in-github",
        "colab_type": "text"
      },
      "source": [
        "<a href=\"https://colab.research.google.com/github/hirurana/tennis_sim/blob/main/tennis_sim.ipynb\" target=\"_parent\"><img src=\"https://colab.research.google.com/assets/colab-badge.svg\" alt=\"Open In Colab\"/></a>"
      ]
    },
    {
      "cell_type": "markdown",
      "metadata": {
        "id": "9ZbHMNDn8Wpk"
      },
      "source": [
        "# 1 - Tennis Match Simulator"
      ]
    },
    {
      "cell_type": "code",
      "metadata": {
        "id": "Kj5pudHYUEYR"
      },
      "source": [
        "#imports \n",
        "import copy\n",
        "import numpy as np\n",
        "import matplotlib.pyplot as plt\n",
        "import random\n",
        "import seaborn as sns; sns.set_theme()\n",
        "import matplotlib.pyplot as plt\n",
        "import matplotlib.pyplot as plt\n",
        "from scipy.interpolate import UnivariateSpline\n",
        "from progressbar import ProgressBar"
      ],
      "execution_count": 5,
      "outputs": []
    },
    {
      "cell_type": "code",
      "metadata": {
        "id": "ZQRRt_ps8R0Z"
      },
      "source": [
        "#game state updater\n",
        "def update_game_state(winner, g_st):\n",
        "    # init vars\n",
        "    loser = abs(winner-1)\n",
        "    ad_out = False\n",
        "    current = copy.deepcopy(g_st)[-1]\n",
        "    # is deuce?\n",
        "    if (current[winner] == current[loser] and current[winner] == 3) or (max(current) == 4 and min(current) == 3):\n",
        "        # if other side is winning sub their score and do not increment\n",
        "        if current[winner] < current[loser]:\n",
        "            ad_out = True\n",
        "    \n",
        "    # increment point\n",
        "    if not ad_out:\n",
        "        current[winner] += 1 \n",
        "    else:\n",
        "        current[loser] -= 1 #leader loses advantage\n",
        "    g_st.append(current)\n",
        "    return g_st"
      ],
      "execution_count": 6,
      "outputs": []
    },
    {
      "cell_type": "code",
      "metadata": {
        "id": "rGgoePRy1xC3",
        "outputId": "750dad4a-9fa6-4315-f22a-ef40061f4f2f",
        "colab": {
          "base_uri": "https://localhost:8080/"
        }
      },
      "source": [
        "update_game_state(1, [[0,0], [0,1]])"
      ],
      "execution_count": 7,
      "outputs": [
        {
          "output_type": "execute_result",
          "data": {
            "text/plain": [
              "[[0, 0], [0, 1], [0, 2]]"
            ]
          },
          "metadata": {
            "tags": []
          },
          "execution_count": 7
        }
      ]
    },
    {
      "cell_type": "code",
      "metadata": {
        "id": "V0uiSvRM8fax"
      },
      "source": [
        "# set state updater\n",
        "def update_set_state(winner, s_st): \n",
        "    #use each point to update the current game state\n",
        "    current_game_num = list(s_st.keys())[-1]\n",
        "    g_st = s_st[current_game_num]\n",
        "\n",
        "    # simulate the point won in current game\n",
        "    g_st = update_game_state(winner, g_st)\n",
        "\n",
        "    # get current score\n",
        "    current_sc = g_st[-1]\n",
        "    \n",
        "    #if game has been won start new game\n",
        "    loser = abs(winner-1)\n",
        "    if (current_sc[winner] >= 4 and current_sc[loser] < 3) or current_sc[winner] == 5:        \n",
        "        #start new game\n",
        "        new_game_num = 'game'+str(len(s_st)+1)\n",
        "        s_st[new_game_num] = [[0,0]]\n",
        "    return s_st, g_st"
      ],
      "execution_count": 8,
      "outputs": []
    },
    {
      "cell_type": "code",
      "metadata": {
        "id": "DpjZq2jn8pxm"
      },
      "source": [
        "# match state updater\n",
        "def update_match_state(winner, m_st):\n",
        "    '''\n",
        "        TODO:\n",
        "        #deal with tie-breaks and advantage sets in final set\n",
        "        #allow configuration to other formats\n",
        "    '''\n",
        "    \n",
        "    # get first set\n",
        "    current_set_num = list(m_st.keys())[-1]\n",
        "    s_st = m_st[current_set_num]\n",
        "    \n",
        "    loser = abs(winner-1)\n",
        "    \n",
        "    #simulate a single point in a game in a set\n",
        "    s_st, cg_score = update_set_state(winner, s_st)\n",
        "    #calculate set score\n",
        "    game_scores = [g[-1].index(max(g[-1])) for g in list(s_st.values()) if max(g[-1]) >= 4] #only check compeleted matches\n",
        "    w_wins = game_scores.count(winner)\n",
        "    l_wins = game_scores.count(loser)\n",
        "\n",
        "    set_scores = [0,0]\n",
        "    set_scores[winner] = w_wins\n",
        "    set_scores[loser] = l_wins\n",
        "\n",
        "    #determine if the set has been won and start new set\n",
        "    if (w_wins-l_wins) >=2 and w_wins >= 6:\n",
        "            #TODO: fix the appearing game\n",
        "            del s_st[list(s_st.keys())[-1]]\n",
        "            #start new set\n",
        "            new_set_num = 'set'+str(len(m_st)+1)\n",
        "            m_st[new_set_num] = {'game1': [[0,0]]}\n",
        "            s_st = m_st[new_set_num]\n",
        "    return m_st, set_scores, cg_score"
      ],
      "execution_count": 97,
      "outputs": []
    },
    {
      "cell_type": "markdown",
      "metadata": {
        "id": "fCRQ-x2N8sVX"
      },
      "source": [
        "Check if the current leader is about to play for a critical point"
      ]
    },
    {
      "cell_type": "code",
      "metadata": {
        "id": "ti-NF9738qve"
      },
      "source": [
        "# #Critical Point checker\n",
        "# def critical_point_check(current_scores, p0_prob, nf):\n",
        "#     '''\n",
        "#         Reduces probability of player winning if is a critical point\n",
        "#     '''\n",
        "#     #parse current_states\n",
        "#     cg_score, cs_scores, m_score = current_scores\n",
        "#     nerv_prob = p0_prob\n",
        "    \n",
        "#     #check if game point\n",
        "#     game_points = [set([0,3]),set([1,3]),set([2,3]), set([5,3])]\n",
        "    \n",
        "#     #TODO: if player is serving for game reduce p\n",
        "    \n",
        "    \n",
        "#     #  if critical point reduce prob of winning\n",
        "#     if set(cg_score) in game_points:\n",
        "#         # reduce p\n",
        "#         nerv_prob*=(1-nf)\n",
        "#         #check if set point\n",
        "#         if min(cs_scores) >= 4 and max(cs_scores)-min(cs_scores) == 1:\n",
        "#             #reduce p again\n",
        "#             nerv_prob*=(1-nf)\n",
        "#             #check if match point\n",
        "#             if max(m_score)-min(m_score) == 1:\n",
        "#                 # reduce p again\n",
        "#                 nerv_prob*=(1-nf)\n",
        "\n",
        "#     return None if p0_prob == nerv_prob else [nerv_prob,1-nerv_prob]"
      ],
      "execution_count": 98,
      "outputs": []
    },
    {
      "cell_type": "markdown",
      "metadata": {
        "id": "EpqiKcS583PA"
      },
      "source": [
        "Function to play a single match"
      ]
    },
    {
      "cell_type": "code",
      "metadata": {
        "id": "NVaMvSYN82DP"
      },
      "source": [
        "import numpy as np\n",
        "# Simulate match from list of inputs\n",
        "def play_match(p0_prob):\n",
        "    '''\n",
        "        TODO: \n",
        "        Allow configurability of how match can be won\n",
        "    '''\n",
        "    # init vars and state\n",
        "    p1_prob = 1-p0_prob\n",
        "    point_probs = [p0_prob,p1_prob]\n",
        "    winner = -1\n",
        "    match_st = {'set1': {'game1': [[0, 0]]}}\n",
        "    cg_score = cs_scores = m_score = [0,0]\n",
        "    \n",
        "    # run until match won\n",
        "    while True:\n",
        "        # generate stream of inputs\n",
        "        point = np.random.choice([0,1], p=point_probs)\n",
        "        \n",
        "        # update match state, returns current match, set and game state\n",
        "        match_st, cs_scores, cg_score = update_match_state(point, match_st)\n",
        "        \n",
        "        # check if game won\n",
        "        if len(match_st) > 2:\n",
        "            # calc set scores\n",
        "            game_scores = [[g.index(max(g)) for g in list(s.values())] for s in list(match_st.values())[:-1]]\n",
        "            set_scores = [1 if s.count(1) > s.count(0) else 0 for s in game_scores]\n",
        "            w_wins = set_scores.count(point)\n",
        "            l_wins = set_scores.count(abs(point-1))\n",
        "            \n",
        "            m_score[point] = w_wins\n",
        "            m_score[abs(point-1)] = l_wins\n",
        "            \n",
        "            # check if match won, break loop (best of three)\n",
        "            if (w_wins-l_wins) >=2 or len(match_st) == 3:\n",
        "                #remove new extra set\n",
        "                del match_st[list(match_st.keys())[-1]]\n",
        "                winner = point\n",
        "                break\n",
        "            # players have tied, play one more set\n",
        "    \n",
        "    return match_st, winner"
      ],
      "execution_count": 99,
      "outputs": []
    },
    {
      "cell_type": "markdown",
      "metadata": {
        "id": "k9LIOUqR8_ht"
      },
      "source": [
        "Simulate a number of matches"
      ]
    },
    {
      "cell_type": "code",
      "metadata": {
        "id": "tPxYQ00c89rd"
      },
      "source": [
        "def simulate_matches(p0_prob, num_matches):\n",
        "    #init vars for hists\n",
        "    results = num_sets_played = num_games_played = all_game_outcomes = np.array([])\n",
        "\n",
        "    for i in range(0,num_matches):\n",
        "        #get the result of playing a single game\n",
        "        match_result, winner = play_match(p0_prob)\n",
        "        results = np.concatenate((results,winner), axis=None)\n",
        "\n",
        "        #get all game outcomes from the match\n",
        "        game_outcomes = np.array([[g[-1].index(max(g[-1])) for g in list(s.values())] for s in list(match_result.values())[:-1]]).flatten()\n",
        "        all_game_outcomes = np.concatenate((all_game_outcomes, game_outcomes), axis=None)\n",
        "        \n",
        "        #get number of sets played in the match\n",
        "        num_sets_played = np.append(num_sets_played,len(match_result))\n",
        "        \n",
        "        #get number of games played in the match\n",
        "        num_games_played = np.concatenate((num_games_played,[len(s) for s in list(match_result.values())]), axis=None)\n",
        "    \n",
        "    return results, num_sets_played, num_games_played, all_game_outcomes"
      ],
      "execution_count": 142,
      "outputs": []
    },
    {
      "cell_type": "markdown",
      "metadata": {
        "id": "gNfxhbS29Fh4"
      },
      "source": [
        "# 2 - Histograms"
      ]
    },
    {
      "cell_type": "code",
      "metadata": {
        "id": "JPbjIAQV9Db5"
      },
      "source": [
        "#run simulation\n",
        "results, num_sets_played, num_games_played, all_game_outcomes = simulate_matches(0.45, 1000)"
      ],
      "execution_count": 161,
      "outputs": []
    },
    {
      "cell_type": "code",
      "metadata": {
        "id": "jvtZtESf_krC"
      },
      "source": [
        "# print(results)\n",
        "# print(np.count_nonzero(results))\n",
        "# _, match_counts = np.unique(results, return_counts=True)\n",
        "# print(match_counts)\n",
        "# print('-----')\n",
        "# print(all_game_outcomes[:100])"
      ],
      "execution_count": 162,
      "outputs": []
    },
    {
      "cell_type": "code",
      "metadata": {
        "colab": {
          "base_uri": "https://localhost:8080/",
          "height": 304
        },
        "id": "HQ_lzMsV9M8V",
        "outputId": "65c66644-1f1f-4f5f-ad1f-216595ee8c8b"
      },
      "source": [
        "#Game Outcomes\n",
        "p1_game_counts = np.count_nonzero(all_game_outcomes)\n",
        "p0_game_counts = len(all_game_outcomes)-p1_game_counts\n",
        "\n",
        "game_counts = [p0_game_counts, p1_game_counts]\n",
        "p1_game_win_probs = p1_game_counts/len(all_game_outcomes)\n",
        "p0_game_win_probs = 1 - p1_game_win_probs\n",
        "plt.bar(['Player 0', 'Player 1'], game_counts)\n",
        "plt.show()\n",
        "print(f\"Player 0 won {p0_game_win_probs*100}% games\\nPlayer 1 won {p1_game_win_probs*100}% games\")"
      ],
      "execution_count": 163,
      "outputs": [
        {
          "output_type": "display_data",
          "data": {
            "image/png": "[encoded data removed]",
            "text/plain": [
              "<Figure size 432x288 with 1 Axes>"
            ]
          },
          "metadata": {
            "tags": []
          }
        },
        {
          "output_type": "stream",
          "text": [
            "Player 0 won 37.94813979706877% games\n",
            "Player 1 won 62.05186020293123% games\n"
          ],
          "name": "stdout"
        }
      ]
    },
    {
      "cell_type": "code",
      "metadata": {
        "colab": {
          "base_uri": "https://localhost:8080/",
          "height": 322
        },
        "id": "9sJ6NBrL9OjP",
        "outputId": "96685dcf-2b93-46a2-e419-5de587d01f82"
      },
      "source": [
        "#Match Outcomes\n",
        "p1_match_counts = np.count_nonzero(results)\n",
        "p0_match_counts = len(results)-p1_match_counts\n",
        "\n",
        "_, counts = np.unique(results, return_counts=True)\n",
        "print(p1_match_counts, counts[1])\n",
        "\n",
        "match_counts= [p0_match_counts, p1_match_counts]\n",
        "p1_match_win_probs = p1_match_counts/len(results)\n",
        "p0_match_win_probs = 1 - p1_match_win_probs\n",
        "plt.bar(['Player 0', 'Player 1'], match_counts)\n",
        "plt.show()\n",
        "print(f\"Player 0 won {p0_match_win_probs*100}% games\\nPlayer 1 won {p1_match_win_probs*100}% games\")"
      ],
      "execution_count": 164,
      "outputs": [
        {
          "output_type": "stream",
          "text": [
            "818 818\n"
          ],
          "name": "stdout"
        },
        {
          "output_type": "display_data",
          "data": {
            "image/png": "[encoded data removed]",
            "text/plain": [
              "<Figure size 432x288 with 1 Axes>"
            ]
          },
          "metadata": {
            "tags": []
          }
        },
        {
          "output_type": "stream",
          "text": [
            "Player 0 won 18.200000000000006% games\n",
            "Player 1 won 81.8% games\n"
          ],
          "name": "stdout"
        }
      ]
    },
    {
      "cell_type": "code",
      "metadata": {
        "colab": {
          "base_uri": "https://localhost:8080/",
          "height": 268
        },
        "id": "OHp0YUJa9RWE",
        "outputId": "1abd8c17-8b30-403e-a6f7-e21fb3e59d4a"
      },
      "source": [
        "#histogram of number of sets played\n",
        "plt.hist(num_sets_played)\n",
        "plt.show()"
      ],
      "execution_count": 165,
      "outputs": [
        {
          "output_type": "display_data",
          "data": {
            "image/png": "[encoded data removed]",
            "text/plain": [
              "<Figure size 432x288 with 1 Axes>"
            ]
          },
          "metadata": {
            "tags": []
          }
        }
      ]
    },
    {
      "cell_type": "code",
      "metadata": {
        "colab": {
          "base_uri": "https://localhost:8080/",
          "height": 268
        },
        "id": "3qCTqVqK9bX0",
        "outputId": "29b80da6-4195-445c-8642-19575d6392b2"
      },
      "source": [
        "#histogram of number of games played per set\n",
        "plt.hist(num_games_played)\n",
        "plt.show()"
      ],
      "execution_count": 166,
      "outputs": [
        {
          "output_type": "display_data",
          "data": {
            "image/png": "[encoded data removed]",
            "text/plain": [
              "<Figure size 432x288 with 1 Axes>"
            ]
          },
          "metadata": {
            "tags": []
          }
        }
      ]
    },
    {
      "cell_type": "markdown",
      "metadata": {
        "id": "5SpTXxFs9d1T"
      },
      "source": [
        "# 3 - Varying Probability of Player 0"
      ]
    },
    {
      "cell_type": "code",
      "metadata": {
        "id": "aol9yoAC9c1z"
      },
      "source": [
        "def get_match_win_prob(p, num_matches=100):\n",
        "  results, num_sets_played, num_games_played, all_game_outcomes = simulate_matches(p, num_matches)\n",
        "  p0_win_prob = 1 - (np.count_nonzero(results)/num_matches)\n",
        "  return p0_win_prob"
      ],
      "execution_count": 167,
      "outputs": []
    },
    {
      "cell_type": "code",
      "metadata": {
        "id": "eLUmZiTcDRAS",
        "outputId": "4d8b553a-d9a4-46eb-ba6a-31363acc8698",
        "colab": {
          "base_uri": "https://localhost:8080/"
        }
      },
      "source": [
        "match_probs = []\n",
        "num_matches=1000\n",
        "\n",
        "print('Running', num_matches, 'simulations varying p0 probability by 1%...')\n",
        "pbar = ProgressBar()\n",
        "for i in pbar(range(100)):\n",
        "  p0 = i/100\n",
        "  p0_win_prob = get_match_win_prob(p0, num_matches)\n",
        "  match_probs.append(p0_win_prob)"
      ],
      "execution_count": 168,
      "outputs": [
        {
          "output_type": "stream",
          "text": [
            "\r                                                                               \r\rN/A% (0 of 100) |                        | Elapsed Time: 0:00:00 ETA:  --:--:--"
          ],
          "name": "stderr"
        },
        {
          "output_type": "stream",
          "text": [
            "Running 1000 simulations varying p0 probability by 1%...\n"
          ],
          "name": "stdout"
        },
        {
          "output_type": "stream",
          "text": [
            "100% (100 of 100) |######################| Elapsed Time: 0:06:48 Time:  0:06:48\n"
          ],
          "name": "stderr"
        }
      ]
    },
    {
      "cell_type": "code",
      "metadata": {
        "id": "ceZd5F1oE6MO",
        "outputId": "a8fc9183-b1cd-4300-b12d-620964a78e92",
        "colab": {
          "base_uri": "https://localhost:8080/",
          "height": 286
        }
      },
      "source": [
        "plt.plot(match_probs)"
      ],
      "execution_count": 169,
      "outputs": [
        {
          "output_type": "execute_result",
          "data": {
            "text/plain": [
              "[<matplotlib.lines.Line2D at 0x7f97608ec470>]"
            ]
          },
          "metadata": {
            "tags": []
          },
          "execution_count": 169
        },
        {
          "output_type": "display_data",
          "data": {
            "image/png": "[encoded data removed]",
            "text/plain": [
              "<Figure size 432x288 with 1 Axes>"
            ]
          },
          "metadata": {
            "tags": []
          }
        }
      ]
    },
    {
      "cell_type": "markdown",
      "metadata": {
        "id": "R_SpeNoy449H"
      },
      "source": [
        "# 4 - Markov Chain"
      ]
    },
    {
      "cell_type": "code",
      "metadata": {
        "id": "CgU4lPYY9kfL"
      },
      "source": [
        "# P = np.array([[0.9262, 0.0385, 0.01, 0.0253],\n",
        "#               [0.01, 0.94, 0.01, 0.04],\n",
        "#               [0.01, 0.035, 0.92, 0.04],\n",
        "#               [0.035, 0.035, 0.035, 0.895]])\n",
        "\n",
        "def calc_stationary_dist(P):\n",
        "  P_row_size = P.shape[0]\n",
        "  A=np.append(np.transpose(P)-np.identity(P_row_size),[[1]*P_row_size],axis=0)\n",
        "  pi=np.transpose(np.array([0]*P_row_size+[1]))\n",
        "  return np.linalg.solve(np.transpose(A).dot(A), np.transpose(A).dot(pi))"
      ],
      "execution_count": 250,
      "outputs": []
    },
    {
      "cell_type": "code",
      "metadata": {
        "id": "PEZB4RFB477s",
        "colab": {
          "base_uri": "https://localhost:8080/"
        },
        "outputId": "07aee9f4-e93d-45c7-fac5-73200daf5309"
      },
      "source": [
        "# create state transition matrix for tennis game\n",
        "p=0.5\n",
        "p0_prob = p\n",
        "p1_prob = 1-p\n",
        "\n",
        "# generate list of states\n",
        "states = [(i,j) for i in range(5) for j in range(5)] + [(3,5),(5,3)]\n",
        "states.remove((4,4))\n",
        "\n",
        "states = dict(zip([i for i in range(len(states))], states))\n",
        "\n",
        "# init state transition matrix\n",
        "P = np.zeros((len(states), len(states)))\n",
        "counter = 0\n",
        "# fill with normal game probs\n",
        "for i in range(len(states)):\n",
        "  for j in range(len(states)):\n",
        "    # score cannot return to prev score after point played\n",
        "    if not states[i] == states[j]:\n",
        "      prev = states[i]\n",
        "      next = states[j]\n",
        "      # score can't change by more than one point\n",
        "      if (abs(next[0]-prev[0])<=1 and next[1] == prev[1]) or (abs(next[1]-prev[1])<=1 and next[0] == prev[0]):\n",
        "        # next score cannot be lower than prev score\n",
        "        if next[0]>= prev[0] and next[1]>= prev[1]:\n",
        "          # if game already won loser cannot win anymore points\n",
        "          if not ((next[0]==prev[0]==4) or (next[1]==prev[1]==4)):\n",
        "            if next[0]>prev[0]:\n",
        "              # print(f'P0 wins point: {prev} -> {next}')\n",
        "              P[i,j] = p0_prob\n",
        "              if next[0] == 4:\n",
        "                print('Player 0 won game')\n",
        "            elif next[1]>prev[1]:\n",
        "              # print(f'P1 wins point: {prev} -> {next}')\n",
        "              P[i,j] = p1_prob\n",
        "              if next[1] == 4:\n",
        "                print('Player 1 won game')\n",
        "    # however if absorbing state, return back to itself\n",
        "    elif (4 in set(states[i]) or 5 in set(states[i])) and not set((4,3)) == set(states[i]):\n",
        "      P[i,j] = 1\n",
        "\n",
        "# add advantage (4,3)/(3,4) to deuce (3,3) transitions\n",
        "# get indexes of these states\n",
        "adv_idxs = [k for k,v in states.items() if set(v) == set((3,4))]\n",
        "deuce_idx = [k for k,v in states.items() if set(v) == set((3,3))][0]\n",
        "\n",
        "# player 0 wins point\n",
        "P[adv_idxs[0], deuce_idx] = p0_prob\n",
        "# player 1 wins point\n",
        "P[adv_idxs[1], deuce_idx] = p1_prob"
      ],
      "execution_count": 251,
      "outputs": [
        {
          "output_type": "stream",
          "text": [
            "Player 1 won game\n",
            "Player 1 won game\n",
            "Player 1 won game\n",
            "Player 0 won game\n",
            "Player 0 won game\n",
            "Player 0 won game\n",
            "Player 1 won game\n",
            "Player 0 won game\n"
          ],
          "name": "stdout"
        }
      ]
    },
    {
      "cell_type": "code",
      "metadata": {
        "id": "c6dRXAhUAZIQ",
        "outputId": "51d02cae-eefa-4f5f-a0e5-6143e81819f2",
        "colab": {
          "base_uri": "https://localhost:8080/",
          "height": 949
        }
      },
      "source": [
        "# for line in P:\n",
        "#     print(*line)\n",
        "plt.figure(figsize=(16, 16))\n",
        "plt.tick_params(axis='both', labelbottom = False, bottom=False, top = False, labeltop=True)\n",
        "ax = sns.heatmap(P.T, annot=True, xticklabels=states.values(), yticklabels=states.values(),fmt=\".1f\")"
      ],
      "execution_count": 252,
      "outputs": [
        {
          "output_type": "display_data",
          "data": {
            "image/png": "[encoded data removed]",
            "text/plain": [
              "<Figure size 1152x1152 with 2 Axes>"
            ]
          },
          "metadata": {
            "tags": []
          }
        }
      ]
    },
    {
      "cell_type": "code",
      "metadata": {
        "id": "ahTiAbJR3Fxl",
        "colab": {
          "base_uri": "https://localhost:8080/",
          "height": 358
        },
        "outputId": "cc986d7a-8c22-4d45-c4f4-1ed34ed45171"
      },
      "source": [
        "prob_dist = calc_stationary_dist(P)"
      ],
      "execution_count": 253,
      "outputs": [
        {
          "output_type": "error",
          "ename": "LinAlgError",
          "evalue": "ignored",
          "traceback": [
            "\u001b[0;31m---------------------------------------------------------------------------\u001b[0m",
            "\u001b[0;31mLinAlgError\u001b[0m                               Traceback (most recent call last)",
            "\u001b[0;32m<ipython-input-253-8959105711f6>\u001b[0m in \u001b[0;36m<module>\u001b[0;34m()\u001b[0m\n\u001b[0;32m----> 1\u001b[0;31m \u001b[0mprob_dist\u001b[0m \u001b[0;34m=\u001b[0m \u001b[0mcalc_stationary_dist\u001b[0m\u001b[0;34m(\u001b[0m\u001b[0mP\u001b[0m\u001b[0;34m)\u001b[0m\u001b[0;34m\u001b[0m\u001b[0;34m\u001b[0m\u001b[0m\n\u001b[0m",
            "\u001b[0;32m<ipython-input-250-ad542216d2b7>\u001b[0m in \u001b[0;36mcalc_stationary_dist\u001b[0;34m(P)\u001b[0m\n\u001b[1;32m      7\u001b[0m   \u001b[0mA\u001b[0m\u001b[0;34m=\u001b[0m\u001b[0mnp\u001b[0m\u001b[0;34m.\u001b[0m\u001b[0mappend\u001b[0m\u001b[0;34m(\u001b[0m\u001b[0mnp\u001b[0m\u001b[0;34m.\u001b[0m\u001b[0mtranspose\u001b[0m\u001b[0;34m(\u001b[0m\u001b[0mP\u001b[0m\u001b[0;34m)\u001b[0m\u001b[0;34m-\u001b[0m\u001b[0mnp\u001b[0m\u001b[0;34m.\u001b[0m\u001b[0midentity\u001b[0m\u001b[0;34m(\u001b[0m\u001b[0mP_row_size\u001b[0m\u001b[0;34m)\u001b[0m\u001b[0;34m,\u001b[0m\u001b[0;34m[\u001b[0m\u001b[0;34m[\u001b[0m\u001b[0;36m1\u001b[0m\u001b[0;34m]\u001b[0m\u001b[0;34m*\u001b[0m\u001b[0mP_row_size\u001b[0m\u001b[0;34m]\u001b[0m\u001b[0;34m,\u001b[0m\u001b[0maxis\u001b[0m\u001b[0;34m=\u001b[0m\u001b[0;36m0\u001b[0m\u001b[0;34m)\u001b[0m\u001b[0;34m\u001b[0m\u001b[0;34m\u001b[0m\u001b[0m\n\u001b[1;32m      8\u001b[0m   \u001b[0mpi\u001b[0m\u001b[0;34m=\u001b[0m\u001b[0mnp\u001b[0m\u001b[0;34m.\u001b[0m\u001b[0mtranspose\u001b[0m\u001b[0;34m(\u001b[0m\u001b[0mnp\u001b[0m\u001b[0;34m.\u001b[0m\u001b[0marray\u001b[0m\u001b[0;34m(\u001b[0m\u001b[0;34m[\u001b[0m\u001b[0;36m0\u001b[0m\u001b[0;34m]\u001b[0m\u001b[0;34m*\u001b[0m\u001b[0mP_row_size\u001b[0m\u001b[0;34m+\u001b[0m\u001b[0;34m[\u001b[0m\u001b[0;36m1\u001b[0m\u001b[0;34m]\u001b[0m\u001b[0;34m)\u001b[0m\u001b[0;34m)\u001b[0m\u001b[0;34m\u001b[0m\u001b[0;34m\u001b[0m\u001b[0m\n\u001b[0;32m----> 9\u001b[0;31m   \u001b[0;32mreturn\u001b[0m \u001b[0mnp\u001b[0m\u001b[0;34m.\u001b[0m\u001b[0mlinalg\u001b[0m\u001b[0;34m.\u001b[0m\u001b[0msolve\u001b[0m\u001b[0;34m(\u001b[0m\u001b[0mnp\u001b[0m\u001b[0;34m.\u001b[0m\u001b[0mtranspose\u001b[0m\u001b[0;34m(\u001b[0m\u001b[0mA\u001b[0m\u001b[0;34m)\u001b[0m\u001b[0;34m.\u001b[0m\u001b[0mdot\u001b[0m\u001b[0;34m(\u001b[0m\u001b[0mA\u001b[0m\u001b[0;34m)\u001b[0m\u001b[0;34m,\u001b[0m \u001b[0mnp\u001b[0m\u001b[0;34m.\u001b[0m\u001b[0mtranspose\u001b[0m\u001b[0;34m(\u001b[0m\u001b[0mA\u001b[0m\u001b[0;34m)\u001b[0m\u001b[0;34m.\u001b[0m\u001b[0mdot\u001b[0m\u001b[0;34m(\u001b[0m\u001b[0mpi\u001b[0m\u001b[0;34m)\u001b[0m\u001b[0;34m)\u001b[0m\u001b[0;34m\u001b[0m\u001b[0;34m\u001b[0m\u001b[0m\n\u001b[0m",
            "\u001b[0;32m<__array_function__ internals>\u001b[0m in \u001b[0;36msolve\u001b[0;34m(*args, **kwargs)\u001b[0m\n",
            "\u001b[0;32m/usr/local/lib/python3.6/dist-packages/numpy/linalg/linalg.py\u001b[0m in \u001b[0;36msolve\u001b[0;34m(a, b)\u001b[0m\n\u001b[1;32m    397\u001b[0m     \u001b[0msignature\u001b[0m \u001b[0;34m=\u001b[0m \u001b[0;34m'DD->D'\u001b[0m \u001b[0;32mif\u001b[0m \u001b[0misComplexType\u001b[0m\u001b[0;34m(\u001b[0m\u001b[0mt\u001b[0m\u001b[0;34m)\u001b[0m \u001b[0;32melse\u001b[0m \u001b[0;34m'dd->d'\u001b[0m\u001b[0;34m\u001b[0m\u001b[0;34m\u001b[0m\u001b[0m\n\u001b[1;32m    398\u001b[0m     \u001b[0mextobj\u001b[0m \u001b[0;34m=\u001b[0m \u001b[0mget_linalg_error_extobj\u001b[0m\u001b[0;34m(\u001b[0m\u001b[0m_raise_linalgerror_singular\u001b[0m\u001b[0;34m)\u001b[0m\u001b[0;34m\u001b[0m\u001b[0;34m\u001b[0m\u001b[0m\n\u001b[0;32m--> 399\u001b[0;31m     \u001b[0mr\u001b[0m \u001b[0;34m=\u001b[0m \u001b[0mgufunc\u001b[0m\u001b[0;34m(\u001b[0m\u001b[0ma\u001b[0m\u001b[0;34m,\u001b[0m \u001b[0mb\u001b[0m\u001b[0;34m,\u001b[0m \u001b[0msignature\u001b[0m\u001b[0;34m=\u001b[0m\u001b[0msignature\u001b[0m\u001b[0;34m,\u001b[0m \u001b[0mextobj\u001b[0m\u001b[0;34m=\u001b[0m\u001b[0mextobj\u001b[0m\u001b[0;34m)\u001b[0m\u001b[0;34m\u001b[0m\u001b[0;34m\u001b[0m\u001b[0m\n\u001b[0m\u001b[1;32m    400\u001b[0m \u001b[0;34m\u001b[0m\u001b[0m\n\u001b[1;32m    401\u001b[0m     \u001b[0;32mreturn\u001b[0m \u001b[0mwrap\u001b[0m\u001b[0;34m(\u001b[0m\u001b[0mr\u001b[0m\u001b[0;34m.\u001b[0m\u001b[0mastype\u001b[0m\u001b[0;34m(\u001b[0m\u001b[0mresult_t\u001b[0m\u001b[0;34m,\u001b[0m \u001b[0mcopy\u001b[0m\u001b[0;34m=\u001b[0m\u001b[0;32mFalse\u001b[0m\u001b[0;34m)\u001b[0m\u001b[0;34m)\u001b[0m\u001b[0;34m\u001b[0m\u001b[0;34m\u001b[0m\u001b[0m\n",
            "\u001b[0;32m/usr/local/lib/python3.6/dist-packages/numpy/linalg/linalg.py\u001b[0m in \u001b[0;36m_raise_linalgerror_singular\u001b[0;34m(err, flag)\u001b[0m\n\u001b[1;32m     95\u001b[0m \u001b[0;34m\u001b[0m\u001b[0m\n\u001b[1;32m     96\u001b[0m \u001b[0;32mdef\u001b[0m \u001b[0m_raise_linalgerror_singular\u001b[0m\u001b[0;34m(\u001b[0m\u001b[0merr\u001b[0m\u001b[0;34m,\u001b[0m \u001b[0mflag\u001b[0m\u001b[0;34m)\u001b[0m\u001b[0;34m:\u001b[0m\u001b[0;34m\u001b[0m\u001b[0;34m\u001b[0m\u001b[0m\n\u001b[0;32m---> 97\u001b[0;31m     \u001b[0;32mraise\u001b[0m \u001b[0mLinAlgError\u001b[0m\u001b[0;34m(\u001b[0m\u001b[0;34m\"Singular matrix\"\u001b[0m\u001b[0;34m)\u001b[0m\u001b[0;34m\u001b[0m\u001b[0;34m\u001b[0m\u001b[0m\n\u001b[0m\u001b[1;32m     98\u001b[0m \u001b[0;34m\u001b[0m\u001b[0m\n\u001b[1;32m     99\u001b[0m \u001b[0;32mdef\u001b[0m \u001b[0m_raise_linalgerror_nonposdef\u001b[0m\u001b[0;34m(\u001b[0m\u001b[0merr\u001b[0m\u001b[0;34m,\u001b[0m \u001b[0mflag\u001b[0m\u001b[0;34m)\u001b[0m\u001b[0;34m:\u001b[0m\u001b[0;34m\u001b[0m\u001b[0;34m\u001b[0m\u001b[0m\n",
            "\u001b[0;31mLinAlgError\u001b[0m: Singular matrix"
          ]
        }
      ]
    },
    {
      "cell_type": "code",
      "metadata": {
        "id": "kS1GOegIIh17",
        "colab": {
          "base_uri": "https://localhost:8080/",
          "height": 283
        },
        "outputId": "6807e076-dd9c-4360-a93d-8ca289f4c083"
      },
      "source": [
        "plt.plot(prob_dist)"
      ],
      "execution_count": null,
      "outputs": [
        {
          "output_type": "execute_result",
          "data": {
            "text/plain": [
              "[<matplotlib.lines.Line2D at 0x7fcf327af5f8>]"
            ]
          },
          "metadata": {
            "tags": []
          },
          "execution_count": 78
        },
        {
          "output_type": "display_data",
          "data": {
            "image/png": "[encoded data removed]",
            "text/plain": [
              "<Figure size 432x288 with 1 Axes>"
            ]
          },
          "metadata": {
            "tags": [],
            "needs_background": "light"
          }
        }
      ]
    },
    {
      "cell_type": "code",
      "metadata": {
        "id": "M72xiKHj--tc"
      },
      "source": [
        ""
      ],
      "execution_count": 159,
      "outputs": []
    },
    {
      "cell_type": "code",
      "metadata": {
        "id": "-9fOIF-DL0xY",
        "outputId": "ed5d097d-259d-4b53-8c65-c32464b615b4",
        "colab": {
          "base_uri": "https://localhost:8080/"
        }
      },
      "source": [
        ""
      ],
      "execution_count": 159,
      "outputs": [
        {
          "output_type": "execute_result",
          "data": {
            "text/plain": [
              "1000"
            ]
          },
          "metadata": {
            "tags": []
          },
          "execution_count": 159
        }
      ]
    },
    {
      "cell_type": "code",
      "metadata": {
        "id": "hmbF4AO_C36E"
      },
      "source": [
        ""
      ],
      "execution_count": null,
      "outputs": []
    }
  ]
}